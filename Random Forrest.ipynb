{
 "cells": [
  {
   "cell_type": "code",
   "execution_count": 11,
   "metadata": {},
   "outputs": [],
   "source": [
    "# Importing Neccesary Libaries\n",
    "import numpy as np\n",
    "import pandas as pd\n",
    "\n",
    "from sklearn.ensemble import RandomForestClassifier\n",
    "from sklearn.model_selection import train_test_split\n",
    "from sklearn.metrics import *\n",
    "from sklearn.preprocessing import *"
   ]
  },
  {
   "cell_type": "code",
   "execution_count": 12,
   "metadata": {},
   "outputs": [],
   "source": [
    "# Reading Processed Train Set Data File\n",
    "raw_d1 = pd.read_csv('Data/Processed_Trainset.csv')\n",
    "\n",
    "# Feature Headers List\n",
    "headers = list(raw_d1.columns)\n",
    "\n",
    "# Reading Test Data Set\n",
    "raw_d2 = pd.read_csv('Data/Processed_Testset.csv')"
   ]
  },
  {
   "cell_type": "code",
   "execution_count": 13,
   "metadata": {},
   "outputs": [],
   "source": [
    "# Generating Correlation Matrix\n",
    "X_T = np.array(raw_d1)[:,:-1]\n",
    "corr_mat = pd.DataFrame(np.corrcoef(X_T.T), columns=headers[:-1], index=headers[:-1])\n",
    "corr_mat.to_csv('Data/Correlation_Matrix.csv')"
   ]
  },
  {
   "cell_type": "code",
   "execution_count": 14,
   "metadata": {},
   "outputs": [],
   "source": [
    "# Convert Data into ndArrays\n",
    "train_data = np.array(raw_d1)\n",
    "test_data = np.array(raw_d2)\n",
    "\n",
    "# Total Training Data\n",
    "X_tot = train_data[:, :-1]\n",
    "Y_tot = train_data[:, -1]\n",
    "\n",
    "# Splitting Data into a Training Set and a Cross Validation Set\n",
    "X_train, X_cross, Y_train, Y_cross = train_test_split(X_tot, Y_tot, test_size = 0.2, random_state = 42, shuffle = True)"
   ]
  },
  {
   "cell_type": "code",
   "execution_count": 15,
   "metadata": {},
   "outputs": [],
   "source": [
    "# Standard Normalizing Data\n",
    "sc = StandardScaler()\n",
    "sc.fit(X_tot)\n",
    "X_tot = sc.fit_transform(X_tot)\n",
    "X_train = sc.transform(X_train)\n",
    "X_cross = sc.transform(X_cross)\n",
    "test_data = sc.fit_transform(test_data)"
   ]
  },
  {
   "cell_type": "code",
   "execution_count": 16,
   "metadata": {},
   "outputs": [],
   "source": [
    "# Applying the Classification Model - Random Forest\n",
    "rf = RandomForestClassifier(bootstrap=True, class_weight= None, max_depth= 8, max_features= 10, max_leaf_nodes= None,\n",
    "                            min_samples_leaf= 1, min_samples_split= 2, min_weight_fraction_leaf= 0.0, n_estimators= 100,\n",
    "                            n_jobs= 1, oob_score= False, random_state= 85, verbose= 0, warm_start= False)\n",
    "rf.fit(X_train, Y_train)\n",
    "\n",
    "# Predicting Outcomes\n",
    "predict_train = rf.predict(X_train)\n",
    "predict_cross = rf.predict(X_cross)\n",
    "predict_tot = rf.predict(X_tot)\n",
    "predict_test = rf.predict(test_data)"
   ]
  },
  {
   "cell_type": "code",
   "execution_count": 23,
   "metadata": {},
   "outputs": [
    {
     "name": "stdout",
     "output_type": "stream",
     "text": [
      "Train Accuracy            : 83.719%       AUC: 0.6779\n",
      "Cross Validation Accuracy : 82.646%       AUC: 0.6600 \n",
      "Total Set Accuracy        : 83.504%       AUC: 0.6743\n",
      "Confusion Matrix for Cross Validation Set :\n",
      " [[3584  161]\n",
      " [ 672  383]]\n",
      "Number of Ones Predicted for Test Data : 648\n",
      "              precision    recall  f1-score   support\n",
      "\n",
      "         0.0       0.84      0.96      0.90      3745\n",
      "         1.0       0.70      0.36      0.48      1055\n",
      "\n",
      "    accuracy                           0.83      4800\n",
      "   macro avg       0.77      0.66      0.69      4800\n",
      "weighted avg       0.81      0.83      0.80      4800\n",
      "\n"
     ]
    }
   ],
   "source": [
    "# Computing Confusion Matrix on Cross Validation Set\n",
    "confusion = confusion_matrix(Y_cross,predict_cross)\n",
    "\n",
    "# Computing Accuracy Values\n",
    "accuracy_train = accuracy_score(Y_train, predict_train)\n",
    "accuracy_cross = accuracy_score(Y_cross, predict_cross)\n",
    "accuracy_tot = accuracy_score(Y_tot, predict_tot)\n",
    "\n",
    "# Computing AUC Values\n",
    "auc_train = roc_auc_score(Y_train, predict_train)\n",
    "auc_cross = roc_auc_score(Y_cross, predict_cross)\n",
    "auc_tot = roc_auc_score(Y_tot, predict_tot)                \n",
    "\n",
    "# Printing Accuracy Metrics\n",
    "print(\"Train Accuracy            : {:.3f}%       AUC: {:.4f}\".format(accuracy_train * 100, auc_train))\n",
    "print(\"Cross Validation Accuracy : {:.3f}%       AUC: {:.4f} \".format(accuracy_cross * 100, auc_cross))\n",
    "print(\"Total Set Accuracy        : {:.3f}%       AUC: {:.4f}\".format(accuracy_tot * 100, auc_tot))\n",
    "print(\"Confusion Matrix for Cross Validation Set :\\n %s\" % str(confusion))\n",
    "print(\"Number of Ones Predicted for Test Data : %d\" % np.sum(predict_test))\n",
    "\n",
    "print(classification_report(Y_cross, predict_cross))"
   ]
  },
  {
   "cell_type": "code",
   "execution_count": 18,
   "metadata": {},
   "outputs": [],
   "source": [
    "# Uploading Predictions to a CSV\n",
    "df = pd.DataFrame(predict_test, dtype=int)\n",
    "df.index += 1\n",
    "df.to_csv('Data/Submission.csv', header=['Revenue'], index_label='ID')"
   ]
  }
 ],
 "metadata": {
  "kernelspec": {
   "display_name": "Python 3",
   "language": "python",
   "name": "python3"
  },
  "language_info": {
   "codemirror_mode": {
    "name": "ipython",
    "version": 3
   },
   "file_extension": ".py",
   "mimetype": "text/x-python",
   "name": "python",
   "nbconvert_exporter": "python",
   "pygments_lexer": "ipython3",
   "version": "3.7.5"
  }
 },
 "nbformat": 4,
 "nbformat_minor": 2
}
