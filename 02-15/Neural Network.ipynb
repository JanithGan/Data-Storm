{
 "cells": [
  {
   "cell_type": "markdown",
   "metadata": {},
   "source": [
    "## Import Libraries"
   ]
  },
  {
   "cell_type": "code",
   "execution_count": 40,
   "metadata": {},
   "outputs": [],
   "source": [
    "import numpy as np\n",
    "import pandas as pd\n",
    "\n",
    "from imblearn.over_sampling import SMOTENC\n",
    "from sklearn.model_selection import train_test_split\n",
    "from sklearn.metrics import *\n",
    "from sklearn.preprocessing import *\n",
    "\n",
    "import tensorflow as tf\n",
    "from tensorflow.keras.models import Sequential\n",
    "from tensorflow.keras.layers import Dense\n",
    "from tensorflow.keras.utils import to_categorical "
   ]
  },
  {
   "cell_type": "markdown",
   "metadata": {},
   "source": [
    "## Import Data"
   ]
  },
  {
   "cell_type": "code",
   "execution_count": 41,
   "metadata": {},
   "outputs": [],
   "source": [
    "# Reading Processed Train Set Data File\n",
    "raw_d1 = pd.read_csv('Data/Processed_Trainset.csv')\n",
    "\n",
    "# Feature Headers List\n",
    "headers = list(raw_d1.columns)\n",
    "\n",
    "# Reading Test Data Set\n",
    "raw_d2 = pd.read_csv('Data/Processed_Testset.csv')\n",
    "\n",
    "id_col = list(raw_d2.Client_ID)\n",
    "raw_d2.drop(['Client_ID'], axis=1, inplace=True)"
   ]
  },
  {
   "cell_type": "code",
   "execution_count": 42,
   "metadata": {},
   "outputs": [
    {
     "data": {
      "text/plain": [
       "((19200, 30), (19200,))"
      ]
     },
     "execution_count": 42,
     "metadata": {},
     "output_type": "execute_result"
    }
   ],
   "source": [
    "# Convert Data into ndArrays\n",
    "train_data = np.array(raw_d1)\n",
    "test_data = np.array(raw_d2)\n",
    "\n",
    "# Total Training Data\n",
    "X_tot = train_data[:, :-1]\n",
    "Y_tot = train_data[:, -1]\n",
    "\n",
    "# Splitting Data into a Training Set and a Cross Validation Set\n",
    "X_train, X_cross, Y_train, Y_cross = train_test_split(X_tot, Y_tot, test_size = 0.2, random_state = 42, shuffle = True)\n",
    "X_train.shape, Y_train.shape"
   ]
  },
  {
   "cell_type": "markdown",
   "metadata": {},
   "source": [
    "## SMOTE"
   ]
  },
  {
   "cell_type": "code",
   "execution_count": 43,
   "metadata": {},
   "outputs": [
    {
     "name": "stderr",
     "output_type": "stream",
     "text": [
      "C:\\Users\\Janith\\.conda\\envs\\mlbasic\\lib\\site-packages\\sklearn\\utils\\deprecation.py:87: FutureWarning: Function safe_indexing is deprecated; safe_indexing is deprecated in version 0.22 and will be removed in version 0.24.\n",
      "  warnings.warn(msg, category=FutureWarning)\n",
      "C:\\Users\\Janith\\.conda\\envs\\mlbasic\\lib\\site-packages\\sklearn\\utils\\deprecation.py:87: FutureWarning: Function safe_indexing is deprecated; safe_indexing is deprecated in version 0.22 and will be removed in version 0.24.\n",
      "  warnings.warn(msg, category=FutureWarning)\n"
     ]
    },
    {
     "data": {
      "text/plain": [
       "((29850, 30), (29850,))"
      ]
     },
     "execution_count": 43,
     "metadata": {},
     "output_type": "execute_result"
    }
   ],
   "source": [
    "smote = SMOTENC(list(range(0,18)), sampling_strategy='auto', k_neighbors=10, n_jobs=1)\n",
    "X_train,Y_train =  smote.fit_resample(X_train, Y_train)\n",
    "\n",
    "pd.DataFrame(np.concatenate((X_train,np.reshape(Y_train, (Y_train.shape[0], 1))), axis=1)\n",
    "             ,columns=headers).to_csv('Data/SMOTED.csv', index=None)\n",
    "X_train.shape, Y_train.shape"
   ]
  },
  {
   "cell_type": "markdown",
   "metadata": {},
   "source": [
    "## Normalizing"
   ]
  },
  {
   "cell_type": "code",
   "execution_count": 25,
   "metadata": {},
   "outputs": [],
   "source": [
    "# Standard Normalizing Data\n",
    "sc = StandardScaler()\n",
    "sc.fit(X_tot)\n",
    "X_tot = sc.fit_transform(X_tot)\n",
    "X_train = sc.transform(X_train)\n",
    "X_cross = sc.transform(X_cross)\n",
    "test_data = sc.fit_transform(test_data)"
   ]
  },
  {
   "cell_type": "markdown",
   "metadata": {},
   "source": [
    "## NN Model"
   ]
  },
  {
   "cell_type": "code",
   "execution_count": 44,
   "metadata": {},
   "outputs": [
    {
     "name": "stdout",
     "output_type": "stream",
     "text": [
      "Train on 29850 samples, validate on 4800 samples\n",
      "Epoch 1/100\n",
      "29850/29850 [==============================] - 1s 41us/sample - loss: 4291.6866 - acc: 0.5363 - val_loss: 1053.5260 - val_acc: 0.6271\n",
      "Epoch 2/100\n",
      "29850/29850 [==============================] - 0s 15us/sample - loss: 773.0442 - acc: 0.5596 - val_loss: 528.8763 - val_acc: 0.6579\n",
      "Epoch 3/100\n",
      "29850/29850 [==============================] - 0s 15us/sample - loss: 476.7939 - acc: 0.5521 - val_loss: 426.3454 - val_acc: 0.6131\n",
      "Epoch 4/100\n",
      "29850/29850 [==============================] - 0s 15us/sample - loss: 338.6508 - acc: 0.5474 - val_loss: 305.9949 - val_acc: 0.6167\n",
      "Epoch 5/100\n",
      "29850/29850 [==============================] - 0s 15us/sample - loss: 250.7550 - acc: 0.5417 - val_loss: 239.8536 - val_acc: 0.6100\n",
      "Epoch 6/100\n",
      "29850/29850 [==============================] - 0s 15us/sample - loss: 195.3644 - acc: 0.5424 - val_loss: 183.2099 - val_acc: 0.6413\n",
      "Epoch 7/100\n",
      "29850/29850 [==============================] - 0s 15us/sample - loss: 150.2776 - acc: 0.5397 - val_loss: 141.9261 - val_acc: 0.6329\n",
      "Epoch 8/100\n",
      "29850/29850 [==============================] - 0s 15us/sample - loss: 118.8180 - acc: 0.5398 - val_loss: 124.0825 - val_acc: 0.5985\n",
      "Epoch 9/100\n",
      "29850/29850 [==============================] - 0s 16us/sample - loss: 98.7697 - acc: 0.5395 - val_loss: 112.2644 - val_acc: 0.5663\n",
      "Epoch 10/100\n",
      "29850/29850 [==============================] - 1s 18us/sample - loss: 85.2769 - acc: 0.5347 - val_loss: 85.3965 - val_acc: 0.6021\n",
      "Epoch 11/100\n",
      "29850/29850 [==============================] - 1s 18us/sample - loss: 77.2603 - acc: 0.5382 - val_loss: 87.1147 - val_acc: 0.5515\n",
      "Epoch 12/100\n",
      "29850/29850 [==============================] - 0s 15us/sample - loss: 65.8561 - acc: 0.5372 - val_loss: 62.2958 - val_acc: 0.6319\n",
      "Epoch 13/100\n",
      "29850/29850 [==============================] - 0s 15us/sample - loss: 58.7795 - acc: 0.5353 - val_loss: 52.9186 - val_acc: 0.7148\n",
      "Epoch 14/100\n",
      "29850/29850 [==============================] - 1s 37us/sample - loss: 54.2606 - acc: 0.5376 - val_loss: 47.6393 - val_acc: 0.6215\n",
      "Epoch 15/100\n",
      "29850/29850 [==============================] - 1s 33us/sample - loss: 45.2606 - acc: 0.5335 - val_loss: 40.3579 - val_acc: 0.7056\n",
      "Epoch 16/100\n",
      "29850/29850 [==============================] - 1s 38us/sample - loss: 44.4519 - acc: 0.5397 - val_loss: 35.6261 - val_acc: 0.6065\n",
      "Epoch 17/100\n",
      "29850/29850 [==============================] - 1s 30us/sample - loss: 38.4785 - acc: 0.5342 - val_loss: 57.0022 - val_acc: 0.4671\n",
      "Epoch 18/100\n",
      "29850/29850 [==============================] - 1s 26us/sample - loss: 39.2820 - acc: 0.5423 - val_loss: 32.6644 - val_acc: 0.7265\n",
      "Epoch 19/100\n",
      "29850/29850 [==============================] - 1s 17us/sample - loss: 37.7810 - acc: 0.5414 - val_loss: 37.6269 - val_acc: 0.5315\n",
      "Epoch 20/100\n",
      "29850/29850 [==============================] - 1s 18us/sample - loss: 32.9862 - acc: 0.5435 - val_loss: 23.6760 - val_acc: 0.5725\n",
      "Epoch 21/100\n",
      "29850/29850 [==============================] - 1s 20us/sample - loss: 31.6301 - acc: 0.5413 - val_loss: 19.6001 - val_acc: 0.6771\n",
      "Epoch 22/100\n",
      "29850/29850 [==============================] - 1s 24us/sample - loss: 29.1472 - acc: 0.5462 - val_loss: 69.9720 - val_acc: 0.3902\n",
      "Epoch 23/100\n",
      "29850/29850 [==============================] - 1s 17us/sample - loss: 26.1457 - acc: 0.5444 - val_loss: 37.3456 - val_acc: 0.4319\n",
      "Epoch 24/100\n",
      "29850/29850 [==============================] - 1s 18us/sample - loss: 21.9456 - acc: 0.5419 - val_loss: 38.1226 - val_acc: 0.4346\n",
      "Epoch 25/100\n",
      "29850/29850 [==============================] - 1s 23us/sample - loss: 27.0993 - acc: 0.5484 - val_loss: 33.4144 - val_acc: 0.4306\n",
      "Epoch 26/100\n",
      "29850/29850 [==============================] - 1s 20us/sample - loss: 21.1354 - acc: 0.5427 - val_loss: 11.4785 - val_acc: 0.7019\n",
      "Epoch 27/100\n",
      "29850/29850 [==============================] - 1s 17us/sample - loss: 20.8490 - acc: 0.5504 - val_loss: 15.5508 - val_acc: 0.5135\n",
      "Epoch 28/100\n",
      "29850/29850 [==============================] - 1s 41us/sample - loss: 18.0412 - acc: 0.5505 - val_loss: 18.2014 - val_acc: 0.4633\n",
      "Epoch 29/100\n",
      "29850/29850 [==============================] - 1s 42us/sample - loss: 21.1531 - acc: 0.5521 - val_loss: 16.6518 - val_acc: 0.7390\n",
      "Epoch 30/100\n",
      "29850/29850 [==============================] - 1s 41us/sample - loss: 24.9188 - acc: 0.5521 - val_loss: 27.0335 - val_acc: 0.4025\n",
      "Epoch 31/100\n",
      "29850/29850 [==============================] - 1s 38us/sample - loss: 14.6801 - acc: 0.5511 - val_loss: 10.9827 - val_acc: 0.5098\n",
      "Epoch 32/100\n",
      "29850/29850 [==============================] - 1s 41us/sample - loss: 17.1805 - acc: 0.5512 - val_loss: 17.2515 - val_acc: 0.7479\n",
      "Epoch 33/100\n",
      "29850/29850 [==============================] - 1s 43us/sample - loss: 19.7450 - acc: 0.5599 - val_loss: 8.3722 - val_acc: 0.5775\n",
      "Epoch 34/100\n",
      "29850/29850 [==============================] - 1s 44us/sample - loss: 12.5508 - acc: 0.5543 - val_loss: 30.4508 - val_acc: 0.3558\n",
      "Epoch 35/100\n",
      "29850/29850 [==============================] - 1s 47us/sample - loss: 16.1863 - acc: 0.5508 - val_loss: 6.7809 - val_acc: 0.6546s: 15.3761 - a\n",
      "Epoch 36/100\n",
      "29850/29850 [==============================] - 1s 40us/sample - loss: 12.2349 - acc: 0.5566 - val_loss: 18.6840 - val_acc: 0.4162\n",
      "Epoch 37/100\n",
      "29850/29850 [==============================] - 1s 28us/sample - loss: 12.9008 - acc: 0.5600 - val_loss: 9.5599 - val_acc: 0.7252\n",
      "Epoch 38/100\n",
      "29850/29850 [==============================] - 1s 17us/sample - loss: 10.6626 - acc: 0.5558 - val_loss: 11.8898 - val_acc: 0.7371\n",
      "Epoch 39/100\n",
      "29850/29850 [==============================] - 1s 21us/sample - loss: 10.9167 - acc: 0.5535 - val_loss: 16.2184 - val_acc: 0.7513\n",
      "Epoch 40/100\n",
      "29850/29850 [==============================] - 1s 17us/sample - loss: 13.1606 - acc: 0.5564 - val_loss: 46.9944 - val_acc: 0.2735\n",
      "Epoch 41/100\n",
      "29850/29850 [==============================] - 1s 17us/sample - loss: 18.8319 - acc: 0.5479 - val_loss: 12.9817 - val_acc: 0.4594\n",
      "Epoch 42/100\n",
      "29850/29850 [==============================] - 1s 17us/sample - loss: 8.8650 - acc: 0.5614 - val_loss: 9.3530 - val_acc: 0.7417\n",
      "Epoch 43/100\n",
      "29850/29850 [==============================] - 1s 17us/sample - loss: 8.3264 - acc: 0.5595 - val_loss: 22.9663 - val_acc: 0.3187\n",
      "Epoch 44/100\n",
      "29850/29850 [==============================] - 1s 25us/sample - loss: 9.2151 - acc: 0.5579 - val_loss: 5.4231 - val_acc: 0.7337\n",
      "Epoch 45/100\n",
      "29850/29850 [==============================] - 0s 16us/sample - loss: 9.3465 - acc: 0.5567 - val_loss: 4.8186 - val_acc: 0.7227\n",
      "Epoch 46/100\n",
      "29850/29850 [==============================] - 1s 17us/sample - loss: 11.4546 - acc: 0.5545 - val_loss: 10.7567 - val_acc: 0.7523\n",
      "Epoch 47/100\n",
      "29850/29850 [==============================] - 1s 17us/sample - loss: 10.4237 - acc: 0.5544 - val_loss: 11.4719 - val_acc: 0.4244\n",
      "Epoch 48/100\n",
      "29850/29850 [==============================] - 1s 18us/sample - loss: 9.4259 - acc: 0.5609 - val_loss: 7.4845 - val_acc: 0.7327\n",
      "Epoch 49/100\n",
      "29850/29850 [==============================] - 1s 17us/sample - loss: 8.9941 - acc: 0.5527 - val_loss: 13.8901 - val_acc: 0.4323\n",
      "Epoch 50/100\n",
      "29850/29850 [==============================] - 1s 22us/sample - loss: 10.4357 - acc: 0.5583 - val_loss: 6.2563 - val_acc: 0.5567\n",
      "Epoch 51/100\n",
      "29850/29850 [==============================] - 1s 19us/sample - loss: 6.7425 - acc: 0.5642 - val_loss: 6.7717 - val_acc: 0.7427\n",
      "Epoch 52/100\n",
      "29850/29850 [==============================] - 1s 20us/sample - loss: 12.0250 - acc: 0.5532 - val_loss: 7.6660 - val_acc: 0.7448\n",
      "Epoch 53/100\n",
      "29850/29850 [==============================] - 1s 20us/sample - loss: 8.4338 - acc: 0.5577 - val_loss: 3.3196 - val_acc: 0.6413\n",
      "Epoch 54/100\n",
      "29850/29850 [==============================] - 1s 18us/sample - loss: 9.4805 - acc: 0.5521 - val_loss: 18.1466 - val_acc: 0.4288\n",
      "Epoch 55/100\n",
      "29850/29850 [==============================] - 1s 17us/sample - loss: 9.9329 - acc: 0.5597 - val_loss: 9.5527 - val_acc: 0.7552\n",
      "Epoch 56/100\n",
      "29850/29850 [==============================] - 1s 18us/sample - loss: 8.1360 - acc: 0.5576 - val_loss: 3.4011 - val_acc: 0.7123\n",
      "Epoch 57/100\n",
      "29850/29850 [==============================] - 0s 17us/sample - loss: 12.1135 - acc: 0.5545 - val_loss: 10.0883 - val_acc: 0.4421\n"
     ]
    },
    {
     "name": "stdout",
     "output_type": "stream",
     "text": [
      "Epoch 58/100\n",
      "29850/29850 [==============================] - 0s 16us/sample - loss: 6.5907 - acc: 0.5564 - val_loss: 42.4380 - val_acc: 0.2433\n",
      "Epoch 59/100\n",
      "29850/29850 [==============================] - 0s 16us/sample - loss: 13.2384 - acc: 0.5485 - val_loss: 20.6958 - val_acc: 0.3200\n",
      "Epoch 60/100\n",
      "29850/29850 [==============================] - 0s 15us/sample - loss: 7.1985 - acc: 0.5575 - val_loss: 7.7051 - val_acc: 0.7521\n",
      "Epoch 61/100\n",
      "29850/29850 [==============================] - 0s 15us/sample - loss: 8.5330 - acc: 0.5571 - val_loss: 5.0219 - val_acc: 0.7477\n",
      "Epoch 62/100\n",
      "29850/29850 [==============================] - 1s 21us/sample - loss: 7.8062 - acc: 0.5607 - val_loss: 3.6595 - val_acc: 0.4552\n",
      "Epoch 63/100\n",
      "29850/29850 [==============================] - 1s 17us/sample - loss: 6.6955 - acc: 0.5572 - val_loss: 13.4077 - val_acc: 0.3265\n",
      "Epoch 64/100\n",
      "29850/29850 [==============================] - 0s 17us/sample - loss: 5.3869 - acc: 0.5592 - val_loss: 3.1488 - val_acc: 0.5767\n",
      "Epoch 65/100\n",
      "29850/29850 [==============================] - 0s 16us/sample - loss: 8.5180 - acc: 0.5548 - val_loss: 4.3844 - val_acc: 0.6062\n",
      "Epoch 66/100\n",
      "29850/29850 [==============================] - 0s 16us/sample - loss: 6.7339 - acc: 0.5567 - val_loss: 3.7225 - val_acc: 0.5329\n",
      "Epoch 67/100\n",
      "29850/29850 [==============================] - 0s 15us/sample - loss: 5.6824 - acc: 0.5660 - val_loss: 13.5092 - val_acc: 0.3081\n",
      "Epoch 68/100\n",
      "29850/29850 [==============================] - 0s 15us/sample - loss: 7.7439 - acc: 0.5543 - val_loss: 11.9199 - val_acc: 0.3883\n",
      "Epoch 69/100\n",
      "29850/29850 [==============================] - 0s 16us/sample - loss: 5.5750 - acc: 0.5664 - val_loss: 4.3111 - val_acc: 0.7387\n",
      "Epoch 70/100\n",
      "29850/29850 [==============================] - 0s 16us/sample - loss: 4.7011 - acc: 0.5649 - val_loss: 4.2287 - val_acc: 0.7340\n",
      "Epoch 71/100\n",
      "29850/29850 [==============================] - 0s 15us/sample - loss: 6.0445 - acc: 0.5592 - val_loss: 3.9591 - val_acc: 0.7325\n",
      "Epoch 72/100\n",
      "29850/29850 [==============================] - 0s 17us/sample - loss: 5.8501 - acc: 0.5544 - val_loss: 2.9759 - val_acc: 0.7146\n",
      "Epoch 73/100\n",
      "29850/29850 [==============================] - 1s 17us/sample - loss: 4.7469 - acc: 0.5572 - val_loss: 5.9549 - val_acc: 0.4348\n",
      "Epoch 74/100\n",
      "29850/29850 [==============================] - 0s 17us/sample - loss: 5.7042 - acc: 0.5609 - val_loss: 7.9776 - val_acc: 0.3815\n",
      "Epoch 75/100\n",
      "29850/29850 [==============================] - 1s 18us/sample - loss: 4.8685 - acc: 0.5596 - val_loss: 3.4272 - val_acc: 0.7204\n",
      "Epoch 76/100\n",
      "29850/29850 [==============================] - 1s 20us/sample - loss: 4.3685 - acc: 0.5591 - val_loss: 3.8529 - val_acc: 0.7340\n",
      "Epoch 77/100\n",
      "29850/29850 [==============================] - 1s 23us/sample - loss: 4.8857 - acc: 0.5671 - val_loss: 4.9487 - val_acc: 0.3710\n",
      "Epoch 78/100\n",
      "29850/29850 [==============================] - 1s 22us/sample - loss: 5.0861 - acc: 0.5634 - val_loss: 4.2568 - val_acc: 0.4306\n",
      "Epoch 79/100\n",
      "29850/29850 [==============================] - 1s 22us/sample - loss: 4.7384 - acc: 0.5674 - val_loss: 5.8585 - val_acc: 0.7540\n",
      "Epoch 80/100\n",
      "29850/29850 [==============================] - 1s 25us/sample - loss: 4.6050 - acc: 0.5652 - val_loss: 8.1443 - val_acc: 0.3344\n",
      "Epoch 81/100\n",
      "29850/29850 [==============================] - 1s 39us/sample - loss: 4.6228 - acc: 0.5671 - val_loss: 20.7315 - val_acc: 0.2617\n",
      "Epoch 82/100\n",
      "29850/29850 [==============================] - 1s 38us/sample - loss: 5.6906 - acc: 0.5622 - val_loss: 2.2472 - val_acc: 0.6283\n",
      "Epoch 83/100\n",
      "29850/29850 [==============================] - 1s 42us/sample - loss: 4.9752 - acc: 0.5584 - val_loss: 15.6938 - val_acc: 0.2544\n",
      "Epoch 84/100\n",
      "29850/29850 [==============================] - 1s 46us/sample - loss: 5.3824 - acc: 0.5611 - val_loss: 3.0254 - val_acc: 0.4450\n",
      "Epoch 85/100\n",
      "29850/29850 [==============================] - 1s 38us/sample - loss: 4.1051 - acc: 0.5653 - val_loss: 12.5892 - val_acc: 0.2315\n",
      "Epoch 86/100\n",
      "29850/29850 [==============================] - 1s 46us/sample - loss: 4.9298 - acc: 0.5541 - val_loss: 2.4668 - val_acc: 0.7344\n",
      "Epoch 87/100\n",
      "29850/29850 [==============================] - 1s 44us/sample - loss: 4.2706 - acc: 0.5671 - val_loss: 2.4404 - val_acc: 0.7038\n",
      "Epoch 88/100\n",
      "29850/29850 [==============================] - 1s 42us/sample - loss: 3.5491 - acc: 0.5639 - val_loss: 3.1235 - val_acc: 0.7342\n",
      "Epoch 89/100\n",
      "29850/29850 [==============================] - 1s 45us/sample - loss: 5.4079 - acc: 0.5571 - val_loss: 6.8644 - val_acc: 0.7544\n",
      "Epoch 90/100\n",
      "29850/29850 [==============================] - 1s 44us/sample - loss: 3.8714 - acc: 0.5712 - val_loss: 2.1687 - val_acc: 0.5083\n",
      "Epoch 91/100\n",
      "29850/29850 [==============================] - 1s 44us/sample - loss: 3.6757 - acc: 0.5677 - val_loss: 2.3628 - val_acc: 0.5548\n",
      "Epoch 92/100\n",
      "29850/29850 [==============================] - 1s 44us/sample - loss: 4.2314 - acc: 0.5688 - val_loss: 3.8117 - val_acc: 0.7519\n",
      "Epoch 93/100\n",
      "29850/29850 [==============================] - 1s 44us/sample - loss: 3.6281 - acc: 0.5705 - val_loss: 2.4479 - val_acc: 0.4158\n",
      "Epoch 94/100\n",
      "29850/29850 [==============================] - 1s 49us/sample - loss: 4.1502 - acc: 0.5625 - val_loss: 2.7041 - val_acc: 0.7244\n",
      "Epoch 95/100\n",
      "29850/29850 [==============================] - 1s 43us/sample - loss: 3.1124 - acc: 0.5709 - val_loss: 15.2834 - val_acc: 0.2235\n",
      "Epoch 96/100\n",
      "29850/29850 [==============================] - 1s 40us/sample - loss: 5.7439 - acc: 0.5571 - val_loss: 9.7953 - val_acc: 0.3098\n",
      "Epoch 97/100\n",
      "29850/29850 [==============================] - 1s 48us/sample - loss: 4.2359 - acc: 0.5655 - val_loss: 2.9486 - val_acc: 0.7327\n",
      "Epoch 98/100\n",
      "29850/29850 [==============================] - 1s 44us/sample - loss: 3.0878 - acc: 0.5703 - val_loss: 8.0319 - val_acc: 0.3067\n",
      "Epoch 99/100\n",
      "29850/29850 [==============================] - 1s 46us/sample - loss: 3.1862 - acc: 0.5671 - val_loss: 2.5730 - val_acc: 0.4715\n",
      "Epoch 100/100\n",
      "29850/29850 [==============================] - 1s 40us/sample - loss: 4.3206 - acc: 0.5646 - val_loss: 2.7982 - val_acc: 0.5175\n"
     ]
    }
   ],
   "source": [
    "model = Sequential()\n",
    "model.add(Dense(16, input_dim=30, activation='relu'))\n",
    "model.add(Dense(12, activation='relu'))\n",
    "model.add(Dense(1, activation='sigmoid'))\n",
    "\n",
    "model.compile(loss='binary_crossentropy', optimizer='adam', metrics=['accuracy'])\n",
    "history = model.fit(X_train, Y_train, epochs=100, batch_size=512, validation_data=(X_cross, Y_cross))"
   ]
  },
  {
   "cell_type": "markdown",
   "metadata": {},
   "source": [
    "## Prediction and Evaluation"
   ]
  },
  {
   "cell_type": "code",
   "execution_count": 32,
   "metadata": {},
   "outputs": [
    {
     "data": {
      "text/plain": [
       "(19200, 1)"
      ]
     },
     "execution_count": 32,
     "metadata": {},
     "output_type": "execute_result"
    }
   ],
   "source": [
    "def predict_y(X_set):\n",
    "    threshold = 0.5\n",
    "    return np.where(model.predict(X_set)>= threshold, 1, 0)\n",
    "\n",
    "predict_train = predict_y(X_train)\n",
    "predict_cross = predict_y(X_cross)\n",
    "predict_tot = predict_y(X_tot)\n",
    "predict_test = predict_y(test_data)\n",
    "\n",
    "model.predict(X_train).shape"
   ]
  },
  {
   "cell_type": "code",
   "execution_count": 33,
   "metadata": {},
   "outputs": [
    {
     "name": "stdout",
     "output_type": "stream",
     "text": [
      "Train Accuracy            : 82.396%       AUC: 0.6611\n",
      "Cross Validation Accuracy : 82.125%       AUC: 0.6523 \n",
      "Total Set Accuracy        : 82.342%       AUC: 0.6593\n",
      "Confusion Matrix for Cross Validation Set :\n",
      " [[3572  173]\n",
      " [ 685  370]]\n",
      "Number of Ones Predicted for Test Data : 689\n",
      "              precision    recall  f1-score   support\n",
      "\n",
      "         0.0       0.84      0.95      0.89      3745\n",
      "         1.0       0.68      0.35      0.46      1055\n",
      "\n",
      "    accuracy                           0.82      4800\n",
      "   macro avg       0.76      0.65      0.68      4800\n",
      "weighted avg       0.80      0.82      0.80      4800\n",
      "\n"
     ]
    }
   ],
   "source": [
    "# Computing Confusion Matrix on Cross Validation Set\n",
    "confusion = confusion_matrix(Y_cross,predict_cross)\n",
    "\n",
    "# Computing Accuracy Values\n",
    "accuracy_train = accuracy_score(Y_train, predict_train)\n",
    "accuracy_cross = accuracy_score(Y_cross, predict_cross)\n",
    "accuracy_tot = accuracy_score(Y_tot, predict_tot)\n",
    "\n",
    "# Computing AUC Values\n",
    "auc_train = roc_auc_score(Y_train, predict_train)\n",
    "auc_cross = roc_auc_score(Y_cross, predict_cross)\n",
    "auc_tot = roc_auc_score(Y_tot, predict_tot)                \n",
    "\n",
    "# Printing Accuracy Metrics\n",
    "print(\"Train Accuracy            : {:.3f}%       AUC: {:.4f}\".format(accuracy_train * 100, auc_train))\n",
    "print(\"Cross Validation Accuracy : {:.3f}%       AUC: {:.4f} \".format(accuracy_cross * 100, auc_cross))\n",
    "print(\"Total Set Accuracy        : {:.3f}%       AUC: {:.4f}\".format(accuracy_tot * 100, auc_tot))\n",
    "print(\"Confusion Matrix for Cross Validation Set :\\n %s\" % str(confusion))\n",
    "print(\"Number of Ones Predicted for Test Data : %d\" % np.sum(predict_test))\n",
    "\n",
    "print(classification_report(Y_cross, predict_cross))"
   ]
  },
  {
   "cell_type": "code",
   "execution_count": 34,
   "metadata": {},
   "outputs": [],
   "source": [
    "# Uploading Predictions to a CSV\n",
    "df = pd.DataFrame(predict_test, dtype=int)\n",
    "df.index = id_col\n",
    "df.to_csv('Data/SubmissionNN.csv', header=['NEXT_MONTH_DEFAULT'], index_label='Client_ID')"
   ]
  }
 ],
 "metadata": {
  "kernelspec": {
   "display_name": "Python 3",
   "language": "python",
   "name": "python3"
  },
  "language_info": {
   "codemirror_mode": {
    "name": "ipython",
    "version": 3
   },
   "file_extension": ".py",
   "mimetype": "text/x-python",
   "name": "python",
   "nbconvert_exporter": "python",
   "pygments_lexer": "ipython3",
   "version": "3.7.5"
  }
 },
 "nbformat": 4,
 "nbformat_minor": 2
}
