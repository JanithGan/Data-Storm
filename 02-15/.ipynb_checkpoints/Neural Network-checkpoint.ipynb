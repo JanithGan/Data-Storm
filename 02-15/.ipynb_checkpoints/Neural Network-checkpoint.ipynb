{
 "cells": [
  {
   "cell_type": "markdown",
   "metadata": {},
   "source": [
    "## Import Libraries"
   ]
  },
  {
   "cell_type": "code",
   "execution_count": 21,
   "metadata": {},
   "outputs": [],
   "source": [
    "import numpy as np\n",
    "import pandas as pd\n",
    "\n",
    "from imblearn.over_sampling import SMOTENC\n",
    "from sklearn.model_selection import train_test_split\n",
    "from sklearn.metrics import *\n",
    "from sklearn.preprocessing import *\n",
    "\n",
    "import tensorflow as tf\n",
    "from tensorflow.keras.models import Sequential\n",
    "from tensorflow.keras.layers import Dense\n",
    "from tensorflow.keras.utils import to_categorical "
   ]
  },
  {
   "cell_type": "markdown",
   "metadata": {},
   "source": [
    "## Import Data"
   ]
  },
  {
   "cell_type": "code",
   "execution_count": 22,
   "metadata": {},
   "outputs": [],
   "source": [
    "# Reading Processed Train Set Data File\n",
    "raw_d1 = pd.read_csv('Data/Processed_Trainset.csv')\n",
    "\n",
    "# Feature Headers List\n",
    "headers = list(raw_d1.columns)\n",
    "\n",
    "# Reading Test Data Set\n",
    "raw_d2 = pd.read_csv('Data/Processed_Testset.csv')\n",
    "\n",
    "id_col = list(raw_d2.Client_ID)\n",
    "raw_d2.drop(['Client_ID'], axis=1, inplace=True)"
   ]
  },
  {
   "cell_type": "code",
   "execution_count": 23,
   "metadata": {},
   "outputs": [
    {
     "data": {
      "text/plain": [
       "((19200, 30), (19200,))"
      ]
     },
     "execution_count": 23,
     "metadata": {},
     "output_type": "execute_result"
    }
   ],
   "source": [
    "# Convert Data into ndArrays\n",
    "train_data = np.array(raw_d1)\n",
    "test_data = np.array(raw_d2)\n",
    "\n",
    "# Total Training Data\n",
    "X_tot = train_data[:, :-1]\n",
    "Y_tot = train_data[:, -1]\n",
    "\n",
    "# Splitting Data into a Training Set and a Cross Validation Set\n",
    "X_train, X_cross, Y_train, Y_cross = train_test_split(X_tot, Y_tot, test_size = 0.2, random_state = 42, shuffle = True)\n",
    "X_train.shape, Y_train.shape"
   ]
  },
  {
   "cell_type": "markdown",
   "metadata": {},
   "source": [
    "## SMOTE"
   ]
  },
  {
   "cell_type": "code",
   "execution_count": 24,
   "metadata": {},
   "outputs": [],
   "source": [
    "# smote = SMOTENC(list(range(0,18)), sampling_strategy='auto', k_neighbors=10, n_jobs=1)\n",
    "# X_train,Y_train =  smote.fit_resample(X_train0, Y_train0)\n",
    "\n",
    "# pd.DataFrame(np.concatenate((X_train,np.reshape(Y_train, (Y_train.shape[0], 1))), axis=1)\n",
    "#              ,columns=headers).to_csv('Data/SMOTED.csv', index=None)\n",
    "# X_train.shape, Y_train.shape"
   ]
  },
  {
   "cell_type": "markdown",
   "metadata": {},
   "source": [
    "## Normalizing"
   ]
  },
  {
   "cell_type": "code",
   "execution_count": 25,
   "metadata": {},
   "outputs": [],
   "source": [
    "# Standard Normalizing Data\n",
    "sc = StandardScaler()\n",
    "sc.fit(X_tot)\n",
    "X_tot = sc.fit_transform(X_tot)\n",
    "X_train = sc.transform(X_train)\n",
    "X_cross = sc.transform(X_cross)\n",
    "test_data = sc.fit_transform(test_data)"
   ]
  },
  {
   "cell_type": "markdown",
   "metadata": {},
   "source": [
    "## NN Model"
   ]
  },
  {
   "cell_type": "code",
   "execution_count": null,
   "metadata": {},
   "outputs": [],
   "source": [
    "model = Sequential()\n",
    "model.add(Dense(16, input_dim=30, activation='relu'))\n",
    "model.add(Dense(12, activation='relu'))\n",
    "model.add(Dense(1, activation='sigmoid'))\n",
    "\n",
    "model.compile(loss='binary_crossentropy', optimizer='adam', metrics=['accuracy'])\n",
    "history = model.fit(X_train, Y_train, epochs=100, batch_size=512)"
   ]
  },
  {
   "cell_type": "markdown",
   "metadata": {},
   "source": [
    "## Prediction and Evaluation"
   ]
  },
  {
   "cell_type": "code",
   "execution_count": 32,
   "metadata": {},
   "outputs": [
    {
     "data": {
      "text/plain": [
       "(19200, 1)"
      ]
     },
     "execution_count": 32,
     "metadata": {},
     "output_type": "execute_result"
    }
   ],
   "source": [
    "def predict_y(X_set):\n",
    "    threshold = 0.5\n",
    "    return np.where(model.predict(X_set)>= threshold, 1, 0)\n",
    "\n",
    "predict_train = predict_y(X_train)\n",
    "predict_cross = predict_y(X_cross)\n",
    "predict_tot = predict_y(X_tot)\n",
    "predict_test = predict_y(test_data)\n",
    "\n",
    "model.predict(X_train).shape"
   ]
  },
  {
   "cell_type": "code",
   "execution_count": 33,
   "metadata": {},
   "outputs": [
    {
     "name": "stdout",
     "output_type": "stream",
     "text": [
      "Train Accuracy            : 82.396%       AUC: 0.6611\n",
      "Cross Validation Accuracy : 82.125%       AUC: 0.6523 \n",
      "Total Set Accuracy        : 82.342%       AUC: 0.6593\n",
      "Confusion Matrix for Cross Validation Set :\n",
      " [[3572  173]\n",
      " [ 685  370]]\n",
      "Number of Ones Predicted for Test Data : 689\n",
      "              precision    recall  f1-score   support\n",
      "\n",
      "         0.0       0.84      0.95      0.89      3745\n",
      "         1.0       0.68      0.35      0.46      1055\n",
      "\n",
      "    accuracy                           0.82      4800\n",
      "   macro avg       0.76      0.65      0.68      4800\n",
      "weighted avg       0.80      0.82      0.80      4800\n",
      "\n"
     ]
    }
   ],
   "source": [
    "# Computing Confusion Matrix on Cross Validation Set\n",
    "confusion = confusion_matrix(Y_cross,predict_cross)\n",
    "\n",
    "# Computing Accuracy Values\n",
    "accuracy_train = accuracy_score(Y_train, predict_train)\n",
    "accuracy_cross = accuracy_score(Y_cross, predict_cross)\n",
    "accuracy_tot = accuracy_score(Y_tot, predict_tot)\n",
    "\n",
    "# Computing AUC Values\n",
    "auc_train = roc_auc_score(Y_train, predict_train)\n",
    "auc_cross = roc_auc_score(Y_cross, predict_cross)\n",
    "auc_tot = roc_auc_score(Y_tot, predict_tot)                \n",
    "\n",
    "# Printing Accuracy Metrics\n",
    "print(\"Train Accuracy            : {:.3f}%       AUC: {:.4f}\".format(accuracy_train * 100, auc_train))\n",
    "print(\"Cross Validation Accuracy : {:.3f}%       AUC: {:.4f} \".format(accuracy_cross * 100, auc_cross))\n",
    "print(\"Total Set Accuracy        : {:.3f}%       AUC: {:.4f}\".format(accuracy_tot * 100, auc_tot))\n",
    "print(\"Confusion Matrix for Cross Validation Set :\\n %s\" % str(confusion))\n",
    "print(\"Number of Ones Predicted for Test Data : %d\" % np.sum(predict_test))\n",
    "\n",
    "print(classification_report(Y_cross, predict_cross))"
   ]
  },
  {
   "cell_type": "code",
   "execution_count": 34,
   "metadata": {},
   "outputs": [],
   "source": [
    "# Uploading Predictions to a CSV\n",
    "df = pd.DataFrame(predict_test, dtype=int)\n",
    "df.index = id_col\n",
    "df.to_csv('Data/SubmissionNN.csv', header=['NEXT_MONTH_DEFAULT'], index_label='Client_ID')"
   ]
  }
 ],
 "metadata": {
  "kernelspec": {
   "display_name": "Python 3",
   "language": "python",
   "name": "python3"
  },
  "language_info": {
   "codemirror_mode": {
    "name": "ipython",
    "version": 3
   },
   "file_extension": ".py",
   "mimetype": "text/x-python",
   "name": "python",
   "nbconvert_exporter": "python",
   "pygments_lexer": "ipython3",
   "version": "3.7.5"
  }
 },
 "nbformat": 4,
 "nbformat_minor": 2
}
