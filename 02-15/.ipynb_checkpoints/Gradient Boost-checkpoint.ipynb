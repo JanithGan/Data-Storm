{
 "cells": [
  {
   "cell_type": "code",
   "execution_count": 85,
   "metadata": {},
   "outputs": [],
   "source": [
    "# Importing Neccesary Libaries\n",
    "import numpy as np\n",
    "import pandas as pd\n",
    "from imblearn.over_sampling import SMOTENC\n",
    "\n",
    "from xgboost import XGBClassifier\n",
    "from sklearn.ensemble import *\n",
    "from sklearn.model_selection import train_test_split\n",
    "from sklearn.metrics import *\n",
    "from sklearn.preprocessing import *\n",
    "from sklearn.neural_network import MLPClassifier"
   ]
  },
  {
   "cell_type": "code",
   "execution_count": 86,
   "metadata": {},
   "outputs": [],
   "source": [
    "# Reading Processed Train Set Data File\n",
    "raw_d1 = pd.read_csv('Data/Processed_Trainset.csv')\n",
    "\n",
    "# Feature Headers List\n",
    "headers = list(raw_d1.columns)\n",
    "\n",
    "# Reading Test Data Set\n",
    "raw_d2 = pd.read_csv('Data/Processed_Testset.csv')\n",
    "\n",
    "id_col = list(raw_d2.Client_ID)\n",
    "raw_d2.drop(['Client_ID'], axis=1, inplace=True)"
   ]
  },
  {
   "cell_type": "code",
   "execution_count": 87,
   "metadata": {},
   "outputs": [],
   "source": [
    "# Generating Correlation Matrix\n",
    "X_T = np.array(raw_d1)[:,:-1]\n",
    "corr_mat = pd.DataFrame(np.corrcoef(X_T.T), columns=headers[:-1], index=headers[:-1])\n",
    "corr_mat.to_csv('Data/Correlation_Matrix.csv')"
   ]
  },
  {
   "cell_type": "code",
   "execution_count": 88,
   "metadata": {},
   "outputs": [
    {
     "data": {
      "text/plain": [
       "((19200, 30), (19200,))"
      ]
     },
     "execution_count": 88,
     "metadata": {},
     "output_type": "execute_result"
    }
   ],
   "source": [
    "# Convert Data into ndArrays\n",
    "train_data = np.array(raw_d1)\n",
    "test_data = np.array(raw_d2)\n",
    "\n",
    "# Total Training Data\n",
    "X_tot = train_data[:, :-1]\n",
    "Y_tot = train_data[:, -1]\n",
    "\n",
    "# Splitting Data into a Training Set and a Cross Validation Set\n",
    "X_train0, X_cross, Y_train0, Y_cross = train_test_split(X_tot, Y_tot, test_size = 0.2, random_state = 42, shuffle = True)\n",
    "X_train0.shape, Y_train0.shape"
   ]
  },
  {
   "cell_type": "code",
   "execution_count": 89,
   "metadata": {},
   "outputs": [
    {
     "name": "stderr",
     "output_type": "stream",
     "text": [
      "C:\\Users\\Janith\\.conda\\envs\\mlbasic\\lib\\site-packages\\sklearn\\utils\\deprecation.py:87: FutureWarning: Function safe_indexing is deprecated; safe_indexing is deprecated in version 0.22 and will be removed in version 0.24.\n",
      "  warnings.warn(msg, category=FutureWarning)\n",
      "C:\\Users\\Janith\\.conda\\envs\\mlbasic\\lib\\site-packages\\sklearn\\utils\\deprecation.py:87: FutureWarning: Function safe_indexing is deprecated; safe_indexing is deprecated in version 0.22 and will be removed in version 0.24.\n",
      "  warnings.warn(msg, category=FutureWarning)\n"
     ]
    }
   ],
   "source": [
    "categorical_features = list(range(0,18))\n",
    "\n",
    "smote = SMOTENC(categorical_features, sampling_strategy='auto', k_neighbors=5, n_jobs=4)\n",
    "X_train,Y_train =  smote.fit_sample(X_train0, Y_train0)"
   ]
  },
  {
   "cell_type": "code",
   "execution_count": 90,
   "metadata": {},
   "outputs": [
    {
     "data": {
      "text/plain": [
       "((29850, 30), (29850,))"
      ]
     },
     "execution_count": 90,
     "metadata": {},
     "output_type": "execute_result"
    }
   ],
   "source": []
  },
  {
   "cell_type": "code",
   "execution_count": 95,
   "metadata": {},
   "outputs": [
    {
     "ename": "IndentationError",
     "evalue": "unexpected indent (<ipython-input-95-7d3aa84448f9>, line 2)",
     "output_type": "error",
     "traceback": [
      "\u001b[1;36m  File \u001b[1;32m\"<ipython-input-95-7d3aa84448f9>\"\u001b[1;36m, line \u001b[1;32m2\u001b[0m\n\u001b[1;33m    .to_csv('Data/SMOTED.csv', index=None)\u001b[0m\n\u001b[1;37m    ^\u001b[0m\n\u001b[1;31mIndentationError\u001b[0m\u001b[1;31m:\u001b[0m unexpected indent\n"
     ]
    }
   ],
   "source": [
    "pd.DataFrame(np.concatenate((X_train,np.reshape(Y_train, (Y_train.shape[0], 1))), axis=1)\n",
    "             ,columns=headers).to_csv('Data/SMOTED.csv', index=None)\n",
    "X_train.shape, Y_train.shape"
   ]
  },
  {
   "cell_type": "code",
   "execution_count": 92,
   "metadata": {},
   "outputs": [],
   "source": [
    "# Standard Normalizing Data\n",
    "sc = StandardScaler()\n",
    "sc.fit(X_tot)\n",
    "X_tot = sc.fit_transform(X_tot)\n",
    "X_train = sc.transform(X_train)\n",
    "X_cross = sc.transform(X_cross)\n",
    "test_data = sc.fit_transform(test_data)"
   ]
  },
  {
   "cell_type": "code",
   "execution_count": 93,
   "metadata": {},
   "outputs": [],
   "source": [
    "# Applying the Classification Model - Random Forest\n",
    "\n",
    "rf = RandomForestClassifier(bootstrap=True, class_weight= None, max_depth= 8, max_features= 10, max_leaf_nodes= None,\n",
    "                            min_samples_leaf= 1, min_samples_split= 2, min_weight_fraction_leaf= 0.0, n_estimators= 100,\n",
    "                            n_jobs= 1, oob_score= False, random_state= 85, verbose= 0, warm_start= False)\n",
    "\n",
    "# rf = XGBClassifier()\n",
    "# rf = GradientBoostingClassifier(n_estimators= 300)\n",
    "# rf = MLPClassifier(hidden_layer_sizes=(30, 30, 30), activation='tanh', solver='adam', alpha=0.0001, batch_size='auto', \n",
    "#                    learning_rate='constant', learning_rate_init=1, power_t=0.5, max_iter=1000, shuffle=True, \n",
    "#                    random_state=None, tol=0.0001, verbose=False, warm_start=False, momentum=0.9, nesterovs_momentum=True, \n",
    "#                    early_stopping=False, validation_fraction=0.1, beta_1=0.9, beta_2=0.999, epsilon=1e-08, \n",
    "#                    n_iter_no_change=10, max_fun=15000)\n",
    "\n",
    "rf.fit(X_train, Y_train)\n",
    "\n",
    "# Predicting Outcomes\n",
    "predict_train = rf.predict(X_train)\n",
    "predict_cross = rf.predict(X_cross)\n",
    "predict_tot = rf.predict(X_tot)\n",
    "predict_test = rf.predict(test_data)"
   ]
  },
  {
   "cell_type": "code",
   "execution_count": 94,
   "metadata": {},
   "outputs": [
    {
     "name": "stdout",
     "output_type": "stream",
     "text": [
      "Train Accuracy            : 79.662%       AUC: 0.7966\n",
      "Cross Validation Accuracy : 75.688%       AUC: 0.6842 \n",
      "Total Set Accuracy        : 76.312%       AUC: 0.7049\n",
      "Confusion Matrix for Cross Validation Set :\n",
      " [[3048  697]\n",
      " [ 470  585]]\n",
      "Number of Ones Predicted for Test Data : 2776\n",
      "              precision    recall  f1-score   support\n",
      "\n",
      "         0.0       0.87      0.81      0.84      3745\n",
      "         1.0       0.46      0.55      0.50      1055\n",
      "\n",
      "    accuracy                           0.76      4800\n",
      "   macro avg       0.66      0.68      0.67      4800\n",
      "weighted avg       0.78      0.76      0.76      4800\n",
      "\n"
     ]
    }
   ],
   "source": [
    "# Computing Confusion Matrix on Cross Validation Set\n",
    "confusion = confusion_matrix(Y_cross,predict_cross)\n",
    "\n",
    "# Computing Accuracy Values\n",
    "accuracy_train = accuracy_score(Y_train, predict_train)\n",
    "accuracy_cross = accuracy_score(Y_cross, predict_cross)\n",
    "accuracy_tot = accuracy_score(Y_tot, predict_tot)\n",
    "\n",
    "# Computing AUC Values\n",
    "auc_train = roc_auc_score(Y_train, predict_train)\n",
    "auc_cross = roc_auc_score(Y_cross, predict_cross)\n",
    "auc_tot = roc_auc_score(Y_tot, predict_tot)                \n",
    "\n",
    "# Printing Accuracy Metrics\n",
    "print(\"Train Accuracy            : {:.3f}%       AUC: {:.4f}\".format(accuracy_train * 100, auc_train))\n",
    "print(\"Cross Validation Accuracy : {:.3f}%       AUC: {:.4f} \".format(accuracy_cross * 100, auc_cross))\n",
    "print(\"Total Set Accuracy        : {:.3f}%       AUC: {:.4f}\".format(accuracy_tot * 100, auc_tot))\n",
    "print(\"Confusion Matrix for Cross Validation Set :\\n %s\" % str(confusion))\n",
    "print(\"Number of Ones Predicted for Test Data : %d\" % np.sum(predict_test))\n",
    "\n",
    "print(classification_report(Y_cross, predict_cross))"
   ]
  },
  {
   "cell_type": "code",
   "execution_count": 65,
   "metadata": {},
   "outputs": [],
   "source": [
    "# Uploading Predictions to a CSV\n",
    "df = pd.DataFrame(predict_test, dtype=int)\n",
    "df.index = id_col\n",
    "df.to_csv('Data/Submission.csv', header=['NEXT_MONTH_DEFAULT'], index_label='Client_ID')"
   ]
  }
 ],
 "metadata": {
  "kernelspec": {
   "display_name": "Python 3",
   "language": "python",
   "name": "python3"
  },
  "language_info": {
   "codemirror_mode": {
    "name": "ipython",
    "version": 3
   },
   "file_extension": ".py",
   "mimetype": "text/x-python",
   "name": "python",
   "nbconvert_exporter": "python",
   "pygments_lexer": "ipython3",
   "version": "3.7.5"
  }
 },
 "nbformat": 4,
 "nbformat_minor": 2
}
